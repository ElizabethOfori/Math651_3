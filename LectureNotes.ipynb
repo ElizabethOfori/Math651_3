{
 "cells": [
  {
   "cell_type": "markdown",
   "metadata": {},
   "source": [
    "# Math 651 - University of Calgary\n",
    "# Mathematical Modeling for Industry\n",
    "# Winter 2016\n",
    "\n"
   ]
  },
  {
   "cell_type": "markdown",
   "metadata": {},
   "source": [
    "# Lecture 1 - Monday, January 11"
   ]
  },
  {
   "cell_type": "markdown",
   "metadata": {},
   "source": [
    "### Suggested texts for the course\n",
    "\n",
    "- Practical Applied Mathematics, Sam Howison \n",
    "- ( https://people.maths.ox.ac.uk/fowler/courses/tech/sdh.pdf )\n",
    "- Mathematical Models in the Applied Sciences, A.C. Fowler\n",
    "- Python for Data Analysis, Wes McKinney\n",
    "\n",
    "All available in paperback from Amazon.\n",
    "\n",
    "### Software that we will use\n",
    "\n",
    "- Jupyter, a notebook system to combine text, formulas, and computations\n",
    "- try.jupyter.org\n",
    "- Python, including NumPy, SciPy, Panda, for numerical work and data processing\n",
    "- Julia, an up-coming numerical package as a replacement for MATLAB\n",
    "- MATLAB\n",
    "- R\n",
    "\n",
    "### Lecture Schedule\n",
    "We will meet Monday Tuesday and Wednesday, from 5pm to 7:30 pm, roughly one week out of four. The weeks we meet are\n",
    "\n",
    "- Jan 11\n",
    "- Feb 1\n",
    "- Feb 29\n",
    "- March 21\n",
    "- April 11\n",
    "\n",
    "### Grading\n",
    "Directed towards completing a final project\n",
    "- Project Proposal: 20% \n",
    "- Team work & collaboration: 15% \n",
    "- Oral Presentation: 15% \n",
    "- Final Project: 50%\n",
    "\n"
   ]
  },
  {
   "cell_type": "markdown",
   "metadata": {},
   "source": [
    "# Lecture 2 - Tuesday, January 12"
   ]
  },
  {
   "cell_type": "markdown",
   "metadata": {},
   "source": [
    "# Lecture 3 - Wednesday, January 13"
   ]
  },
  {
   "cell_type": "code",
   "execution_count": null,
   "metadata": {
    "collapsed": true
   },
   "outputs": [],
   "source": []
  }
 ],
 "metadata": {
  "kernelspec": {
   "display_name": "Julia 0.4.2",
   "language": "julia",
   "name": "julia-0.4"
  },
  "language_info": {
   "file_extension": ".jl",
   "mimetype": "application/julia",
   "name": "julia",
   "version": "0.4.2"
  }
 },
 "nbformat": 4,
 "nbformat_minor": 0
}
