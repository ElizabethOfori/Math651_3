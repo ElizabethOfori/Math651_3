{
 "cells": [
  {
   "cell_type": "markdown",
   "metadata": {},
   "source": [
    "# Math 651 - University of Calgary\n",
    "# Mathematical Modeling for Industry\n",
    "# Winter 2016\n",
    "\n"
   ]
  },
  {
   "cell_type": "markdown",
   "metadata": {},
   "source": [
    "# Lecture 4 - Monday, February 1"
   ]
  },
  {
   "cell_type": "markdown",
   "metadata": {},
   "source": [
    "## Teamwork\n",
    "\n",
    "### Hell is other people.  (J.P. Sartre)\n",
    "\n",
    "Indeed, working with other people can be a pain, so why do we bother? \n",
    "\n",
    "Mainly, we bother because working with a team is often the only way we can accomplish a large task in a reasonable amount of time. With a team, you can assemble diverse skills, ideas and initiative into one large group that has all the necessary components to complete the task. \n",
    "\n",
    "In the working world, most people are explicitly involved in teamwork everyday. Imagine a task like building a bridge. One architect may design the bridge, but he relies on engineers to tell him what kinds of materials (steel beams, cables, concrete) will be strong enough to support his design. They rely on purchasing agents to go out and buy the appropriate materials, that meet the specificaltions of individual parts for the bridge. They count on skilled workers to assemble the parts. They have project managers to coordinate all aspects of the work, so it can be done quickly and reliably without interfering with travellers using the nearby roads. They even depend on financial people to pull together the money to fund the project, and lawyers and agents to make sure they meet all government regulations and rules.\n",
    "\n",
    "In a team, each person brings some important components to the table. These include\n",
    "- specific technical skills (and different people will have different skills)\n",
    "- trust (in their abilities, and in the ability and commitment of other members of the team)\n",
    "- communication \n",
    "- motivation and inspiration.\n",
    "\n",
    "As mathematicians, we are sometimes at a disadvantage in teamwork because we are so accustomed to working individually, often very focused and very intently, on clear, concise problems that are of deep interest to us. Or when we are in a team, it is a collaboration of two very similar people working on a specific mathematical problem. It is rare to see a mathematician collaborating with a purchasing agent, for instance.\n",
    "\n",
    "In the working world, you are often forced onto teams where you don't get to choose your team-mates, who might be very different than you (say, with very different skills) and whom you might not know well at all. This class is a good chance to practice team-work skills, as the people here are not too different than yourself, but different enough that you may face challenges.\n",
    "\n",
    "Some ideas on how to proceed in a team:\n",
    "\n",
    "_1. Start with communication, and trust building.\n",
    "\n",
    "I would suggest having regular team meetings, say twice a week, just to touch base on what each person is doing, and what are the short-term goals for each person that week. No \"work\" is done at these team meetings, just communicating where you are at.\n",
    "\n",
    "For instance, meet Monday morning for coffee (20 minutes) to say what you are working this week, what other things will distract you (other classes, exams, etc), schedule working meetings with other team members for later in the week if you need to work together. etc. Then meet on Friday (end of day) for a 20 minute coffee, to review what was accomplished that week, what do you have to look forward to next week.\n",
    "\n",
    "Staying in constant communication and observing that each of you is working, will help in the trust building.\n",
    "\n",
    "_2. Do a skills assessment for each member of the team\n",
    "\n",
    "At a dedicated meeting, discuss what your particular skills are (is it coding? Is it collecting data from interesting sources? Is it finding research papers? Is it connecting math research to real problems? Is it making nice looking presentations? Is it writing up math papers in TeX? Etc) Figure out what skills you can make best use of, for each member in the team. \n",
    "\n",
    "_3. Agree to ground rules for working. \n",
    "\n",
    "In many professional settings, there are clear ground rules on how people interact at work. As students, you may not have had to think about this too much, as school and social life seem to get merged. In professional settings, life is made easier by avoiding talking about certain topics, like\n",
    "- politics\n",
    "- religion\n",
    "- sex\n",
    "- social life\n",
    "- money, incomes, etc.\n",
    "\n",
    "All interesting topics, I'm sure, but save that for discussions with your friends. In the team, this is work-time, so stay focused on the work. \n",
    "\n",
    "It is also fair to add to this list of forbidden topics, and remind your team members to stay on the professional topics. \n",
    "\n",
    "You might also want to discuss explicitly other rules like being on time, following through on work commitments, documenting your work, etc.\n",
    "\n",
    "_4. Agree to outcomes.\n",
    "\n",
    "What do you want out of the project? You should agree what you all hope to get out of this. As your prof, I want to see a significant piece of work that reflects the efforts of a team, not some loose assemblage of pieces from individuals. The final result, though, I am leaving to you to determine in detail. \n",
    "\n",
    "Do you have ideas on teamwork? Maybe you've seen a good webpage on this, or a nice book on how to work in teams. Feel free to post this for the group to share.\n"
   ]
  },
  {
   "cell_type": "markdown",
   "metadata": {},
   "source": [
    "# A sample Project\n",
    "\n",
    "## A target fusion reactor\n",
    "\n",
    "A fusion reactor is a controlled nuclear fusion device, used to fuse light atoms into heavier atoms (e.g. hydrogen fused into helium), producing heat that can be used to power an electric generator. Fusion is of course the source of energy in our Sun. \n",
    "\n",
    "On earth, nuclear fusion has been achieved through the use of hydrogen bombs, which are actually initiated by atomic bombs (using nuclear fission of uranium or plutonium atoms). A bomb is an inconvenient source of energy, so people are interested in created controlled fusion to generate useful power.\n",
    "\n",
    "Current technology rely on tokomaks (toroidal-shaped magnetic bottles) or intense laser beams to force a plasma of hydrogen to fuse into helium. They have not yet reached the break-even point, where more energy is produced than what is consumed in initiating the reaction.\n",
    "\n",
    "A company in B.C., named General Fusion, is attempted a method where physical pistons are used to compress a metal ball containing the plasma of hydrogen atoms. It is a novel idea, heavily funded, but also not yet able to achieve effective fusion. \n",
    "\n",
    "As an example of a mathematical modeling problem, we will look at a report by Michael Lindstrom, published in SIAM's Journal of Applied Math, which gives an interesting asymptotic analysis of the General Fusion approach. The reference is below. \n",
    "\n",
    "This is a good example of how to approach the applied mathematical modeling problem in a real industrial setting. \n",
    "\n",
    "\n",
    "http://epubs.siam.org/doi/abs/10.1137/140984142"
   ]
  },
  {
   "cell_type": "markdown",
   "metadata": {},
   "source": [
    "# Lecture 2 - Tuesday, February 2"
   ]
  },
  {
   "cell_type": "markdown",
   "metadata": {},
   "source": [
    "# Lecture 4 - Wednesday, February 3\n",
    "\n",
    "The students are asking for some code to do financial market simulations, using stochastic processes. Rather than re-invent the wheel, I borrowed some code from Stuart Gordon Reid, who has a webpage describing various financial models.\n",
    "http://www.turingfinance.com/random-walks-down-wall-street-stochastic-processes-in-python/\n",
    "\n",
    "His Python code is available on GitHub, here:\n",
    "https://github.com/StuartGordonReid/Python-Notebooks\n",
    "\n",
    "I forked a copy of his iPython notebook and put it into our repository, in our Python Code folder. It is called:\n",
    "Stochastic Process Algorithms.ipynb\n",
    "\n",
    "The code runs fine, except I had to add the comment \"%matplotlib inline\" at the first line of the first cell in the notebook. This allows the graphics to plot in the notebook. \n",
    "\n",
    "The variable \"paths\" sets the number of different random trials that will run. It is currently set at 15, to get reasonably looking plots. To get a good sample or runs, you might need to set this to a 1000 or more. \n",
    "\n",
    "Model parameters are set to some standard values for initial asset price, length of time of the simulation, interest rates, standard deviations for diffusion, jumps, etc. \n",
    "\n",
    "There is sample code for\n",
    "- Brownian motion\n",
    "- Geometric Brownian motion (which is more realistic for modeling stock prices)\n",
    "- Merton Jump Diffusion (which allows for sudden jumps in stock prices)\n",
    "- Heston Stochastic Volatility model (which allows for changes in price volatility)\n",
    "- Cox Ingersoll Ross model (for modelling interest rates over time)\n",
    "- Ornstein Uhlenbeck (also for interest rates)\n",
    "\n",
    "I have no idea if these models are useful, or if the code accurately reflects these theoretical models. I don't do financial math -- so you will have to judge yourself, or test the code appropriately. "
   ]
  },
  {
   "cell_type": "code",
   "execution_count": null,
   "metadata": {
    "collapsed": true
   },
   "outputs": [],
   "source": []
  }
 ],
 "metadata": {
  "kernelspec": {
   "display_name": "Julia 0.4.2",
   "language": "julia",
   "name": "julia-0.4"
  },
  "language_info": {
   "file_extension": ".jl",
   "mimetype": "application/julia",
   "name": "julia",
   "version": "0.4.2"
  }
 },
 "nbformat": 4,
 "nbformat_minor": 0
}
